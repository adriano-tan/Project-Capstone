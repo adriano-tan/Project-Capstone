{
  "nbformat": 4,
  "nbformat_minor": 0,
  "metadata": {
    "colab": {
      "name": "Segmenting and Clustering Neighborhoods in Toront.ipynb.ipynb",
      "provenance": [],
      "authorship_tag": "ABX9TyOx1qZxbVrAD4WOlq9ipMf+",
      "include_colab_link": true
    },
    "kernelspec": {
      "name": "python3",
      "display_name": "Python 3"
    }
  },
  "cells": [
    {
      "cell_type": "markdown",
      "metadata": {
        "id": "view-in-github",
        "colab_type": "text"
      },
      "source": [
        "<a href=\"https://colab.research.google.com/github/adriano-tan/Project-Capstone/blob/master/Segmenting_and_Clustering_Neighborhoods_in_Toront_ipynb.ipynb\" target=\"_parent\"><img src=\"https://colab.research.google.com/assets/colab-badge.svg\" alt=\"Open In Colab\"/></a>"
      ]
    },
    {
      "cell_type": "markdown",
      "metadata": {
        "id": "zbonVDFUbbBw",
        "colab_type": "text"
      },
      "source": [
        ""
      ]
    },
    {
      "cell_type": "markdown",
      "metadata": {
        "id": "6KAiZA8gbiI8",
        "colab_type": "text"
      },
      "source": [
        "**Segmenting and Clustering in Neighbours in Toronto**"
      ]
    },
    {
      "cell_type": "code",
      "metadata": {
        "id": "fYbGSr0Zcxcs",
        "colab_type": "code",
        "colab": {}
      },
      "source": [
        "#importing the necessary packages needed\n",
        "\n",
        "import numpy as np\n",
        "import pandas as pd\n",
        "from bs4 import BeautifulSoup\n",
        "import requests\n",
        "# Matplotlib and associated plotting modules\n",
        "import matplotlib.cm as cm\n",
        "import matplotlib.colors as colors"
      ],
      "execution_count": 1,
      "outputs": []
    },
    {
      "cell_type": "markdown",
      "metadata": {
        "id": "WPQfJq7gdICs",
        "colab_type": "text"
      },
      "source": [
        "**Ingesting the data via the Beautiful Soup package**"
      ]
    },
    {
      "cell_type": "code",
      "metadata": {
        "id": "WCXiLy0pdSHk",
        "colab_type": "code",
        "colab": {}
      },
      "source": [
        "\n",
        "# Use BeautifulSoup and get the table from url:\n",
        "url='https://en.wikipedia.org/wiki/List_of_postal_codes_of_Canada:_M'\n",
        "source = requests.get(url).text\n",
        "soup = BeautifulSoup(source,'lxml')\n",
        "table = soup.find('table')"
      ],
      "execution_count": 2,
      "outputs": []
    }
  ]
}